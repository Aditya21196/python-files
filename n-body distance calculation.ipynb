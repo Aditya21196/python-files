{
 "cells": [
  {
   "cell_type": "code",
   "execution_count": 1,
   "metadata": {},
   "outputs": [],
   "source": [
    "import numpy as np"
   ]
  },
  {
   "cell_type": "code",
   "execution_count": 2,
   "metadata": {},
   "outputs": [],
   "source": [
    "def get_distances(arr):\n",
    "    \"\"\"\n",
    "    arr should be a numpy array x,y coordinates of n-particles. The shape of arr should be (n,2). The ith element of arr is to\n",
    "    represent x,y coordinate of ith element\n",
    "    \"\"\"\n",
    "    n=arr.shape[0]\n",
    "    assert arr.shape == (n,2)\n",
    "    \n",
    "    #slicing out x-coordinates \n",
    "    nx=arr[:,0]\n",
    "    \n",
    "    #slicing out y-coordinates\n",
    "    ny=arr[:,1]\n",
    "    \n",
    "    #finding differences of x-co-ordinates\n",
    "    A=np.zeros(n*n).reshape(n,n)+nx.reshape(1,n)-nx.T.reshape(n,1)\n",
    "    \n",
    "    #finding differences of y-co-ordinates\n",
    "    B=np.zeros(n*n).reshape(n,n)+ny.reshape(1,n)-ny.T.reshape(n,1)\n",
    "    \n",
    "    #All of the operations thus far are O(1) since they are matrix operations\n",
    "    \n",
    "    #return distances- a n X n matrix whereas element with indices i,j will represent distance between ith and jth number\n",
    "    return (A**2 + B**2)**(0.5)"
   ]
  },
  {
   "cell_type": "code",
   "execution_count": 3,
   "metadata": {},
   "outputs": [
    {
     "data": {
      "text/plain": [
       "array([[0, 1],\n",
       "       [2, 3],\n",
       "       [4, 5]])"
      ]
     },
     "execution_count": 3,
     "metadata": {},
     "output_type": "execute_result"
    }
   ],
   "source": [
    "testarr=np.arange(6).reshape(3,2)\n",
    "testarr"
   ]
  },
  {
   "cell_type": "code",
   "execution_count": 4,
   "metadata": {},
   "outputs": [
    {
     "data": {
      "text/plain": [
       "array([[0.        , 2.82842712, 5.65685425],\n",
       "       [2.82842712, 0.        , 2.82842712],\n",
       "       [5.65685425, 2.82842712, 0.        ]])"
      ]
     },
     "execution_count": 4,
     "metadata": {},
     "output_type": "execute_result"
    }
   ],
   "source": [
    "get_distances(testarr)"
   ]
  },
  {
   "cell_type": "code",
   "execution_count": null,
   "metadata": {},
   "outputs": [],
   "source": []
  }
 ],
 "metadata": {
  "kernelspec": {
   "display_name": "Python 3",
   "language": "python",
   "name": "python3"
  },
  "language_info": {
   "codemirror_mode": {
    "name": "ipython",
    "version": 3
   },
   "file_extension": ".py",
   "mimetype": "text/x-python",
   "name": "python",
   "nbconvert_exporter": "python",
   "pygments_lexer": "ipython3",
   "version": "3.6.4"
  }
 },
 "nbformat": 4,
 "nbformat_minor": 2
}
